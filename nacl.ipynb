{
 "cells": [
  {
   "cell_type": "markdown",
   "metadata": {},
   "source": [
    "##  THE ION–ION POTENTIAL:\n",
    "The two-body (Na and Cl) potential consists of the sum of the attractive or repulsive point charge Coulomb energy and the repulsive Pauli energy.\n",
    "\n",
    "\n",
    "$$\n",
    "U\\left(r_{i j}\\right)=\\left\\{\\begin{array}{l}{-\\frac{e^{2}}{4 \\pi \\epsilon_{0} r_{i j}}+\\alpha e^{-r_{i j} / \\rho}+b\\left(\\frac{c}{r_{i j}}\\right)^{12}} (\\mathrm{+ -})\\\\ {+\\frac{e^{2}}{4 \\pi \\epsilon_{0} r_{i j}}+b\\left(\\frac{c}{r_{i j}}\\right)^{12}} (\\mathrm{++ or --}) \\end{array}\\right.\n",
    "$$\n",
    "\n",
    "where the Coulomb force has constant:\n",
    "\n",
    "$$ke^2 = e^2/4\\pi\\epsilon_0 = 1.44\\; \\mathrm{eV-nm}$$\n",
    "\n",
    "with Pauli exclusion term:\n",
    "\n",
    "$$\\alpha = 1.09e3\\;\\mathrm{eV}$$\n",
    "\n",
    "and a term to stabilize (or \"regularize\") the computation at small distances with:\n",
    "\n",
    "$$b = 1.0\\;\\mathrm{eV}$$\n",
    "\n",
    "$$c = 0.01\\;\\mathrm{nm}$$\n",
    "\n",
    "**Coulombic Term**: Describes the electrostatic interaction between charged particles. For (\\(+ -\\)), it's attractive, and for (\\(++\\) or \\(--\\)), it's repulsive.\n",
    "**Pauli Exclusion Term**: Introduces a repulsive term based on the Pauli exclusion principle.\n",
    "\n",
    "***Reference***\n",
    "[CompPhys/MinMax](https://github.com/ubsuny/CompPhys/blob/main/MinMax/nacl.ipynb)\n"
   ]
  },
  {
   "cell_type": "markdown",
   "metadata": {},
   "source": [
    "### Import Necessary Libraries"
   ]
  },
  {
   "cell_type": "code",
   "execution_count": 1,
   "metadata": {},
   "outputs": [],
   "source": [
    "import numpy as np\n",
    "import matplotlib.pyplot as plt\n",
    "from mpl_toolkits.mplot3d import Axes3D\n",
    "import itertools\n",
    "import scipy.optimize"
   ]
  },
  {
   "cell_type": "markdown",
   "metadata": {},
   "source": [
    "### Physical Constants"
   ]
  },
  {
   "cell_type": "code",
   "execution_count": 2,
   "metadata": {},
   "outputs": [],
   "source": [
    "ke2 = 197 / 137 # eV-nm   Coulomb force charge\n",
    "alpha = 1.09e3  # eV      parameter of model\n",
    "rho = 0.0321    # nm      parameter of model\n",
    "b = 1.0         # eV      regular\n",
    "c = 0.01        # nm"
   ]
  },
  {
   "cell_type": "markdown",
   "metadata": {},
   "source": [
    "## Class to implement the potential calculation\n",
    "\n",
    "This is fully vectorized!\n",
    "\n",
    "- `init`: Inputs the positions of the Na and Cl ions as `ndarray`s with sizes `(N,3)`, with the second dimension representing 3-space. This will create a list of all of the combinations, and store their relative distances `rij` and potentials `Uij`. The positions are stored in \"human readable\" format in `positions`. \n",
    "- `Uij`: computes the vector of potentials `Uij_` from the positions (updated per iteration) and charges (static throughout) using the `combs` list of combinations (static throughout)\n",
    "- `V`: computes the sum of `Uij()` (updated per iteration)\n",
    "- `get_vals`: returns the flattened version of `positions`. \n",
    "- `set_vals`: inputs the flattened version of `positions` and reshapes correctly. \n",
    "- `__call__`: accepts the flattened positions, calls `set_vals` and then returns `U`. This is used by `scipi.optimize.minimize`. "
   ]
  },
  {
   "cell_type": "code",
   "execution_count": null,
   "metadata": {},
   "outputs": [],
   "source": [
    "\n",
    "#Helpful solution to convert itertools combinations to numpy arrays here:\n",
    "## https://stackoverflow.com/questions/33282369/convert-itertools-array-into-numpy-array\n",
    "def cp(l):\n",
    "    return np.fromiter(itertools.chain(*itertools.combinations(l,2)),dtype=int).reshape(-1,2)\n",
    "\n",
    "class Cluster:\n",
    "    def __init__(self, r_na, r_cl):\n",
    "        '''\n",
    "        Inputs the list of Na and Cl positions. Na has charge +1, Cl has -1.\n",
    "        The array of ions itself does not change throughout the calculation, and\n",
    "        neither do the charges. As such, we can just compute the combinations one time\n",
    "        and refer to it throughout the calculation. \n",
    "        '''\n",
    "        self.positions = np.concatenate( (r_na,r_cl))\n",
    "        self.charges = np.concatenate( [np.ones(r_na.shape[0]), np.full(r_cl.shape[0], -1)] )\n",
    "        self.combs = cp(np.arange(self.charges.size))\n",
    "        self.chargeprods = self.charges[self.combs][:,0] * self.charges[self.combs][:,1]\n",
    "        self.rij = np.linalg.norm(self.positions[self.combs][:,0] - self.positions[self.combs][:,1], axis=1)\n",
    "\n",
    "    def Vij(self):\n",
    "        '''Calculate a numpy vector of all of the potentials of the combinations'''\n",
    "        self.Vij_ = np.zeros_like(self.rij)\n",
    "        pos = self.chargeprods>0\n",
    "        neg = ~pos\n",
    "        self.Vij_[pos] = ke2 / self.rij[pos] + b*(c/self.rij[pos])**12\n",
    "        self.Vij_[neg] =-ke2 / self.rij[neg] + alpha*np.exp(-self.rij[neg]/rho) + b*(c/self.rij[neg])**12\n",
    "        return self.Vij_\n",
    "    \n",
    "    def V(self):\n",
    "        '''Total potential, which is a sum of the Vij vector'''\n",
    "        return np.sum(self.Vij())\n",
    "    \n",
    "    def get_vals(self):\n",
    "        '''Positions interpreted as a flat shape'''\n",
    "        return np.reshape(self.positions, -1)\n",
    "        \n",
    "    def set_vals(self, vals ):        \n",
    "        '''Inputs flat shape of positions, used by __call__'''\n",
    "        self.positions = vals.reshape(self.positions.shape)\n",
    "        self.rij = np.linalg.norm(self.positions[self.combs][:,0] - self.positions[self.combs][:,1], axis=1)\n",
    "\n",
    "    \n",
    "    def __call__(self, vals):\n",
    "        '''Function that  scipy.optimize.minimize will call'''\n",
    "        self.set_vals(vals)\n",
    "        return self.V()"
   ]
  }
 ],
 "metadata": {
  "kernelspec": {
   "display_name": "Python 3",
   "language": "python",
   "name": "python3"
  },
  "language_info": {
   "codemirror_mode": {
    "name": "ipython",
    "version": 3
   },
   "file_extension": ".py",
   "mimetype": "text/x-python",
   "name": "python",
   "nbconvert_exporter": "python",
   "pygments_lexer": "ipython3",
   "version": "3.11.5"
  }
 },
 "nbformat": 4,
 "nbformat_minor": 2
}
