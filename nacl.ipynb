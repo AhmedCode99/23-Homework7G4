{
 "cells": [
  {
   "cell_type": "markdown",
   "metadata": {},
   "source": [
    "#  THE ION–ION POTENTIAL:\n",
    "The two-body (Na and Cl) potential consists of the sum of the attractive or repulsive point charge Coulomb energy and the repulsive Pauli energy.\n",
    "\n",
    "\n",
    "$$\n",
    "U\\left(r_{i j}\\right)=\\left\\{\\begin{array}{l}{-\\frac{e^{2}}{4 \\pi \\epsilon_{0} r_{i j}}+\\alpha e^{-r_{i j} / \\rho}+b\\left(\\frac{c}{r_{i j}}\\right)^{12}} (\\mathrm{+ -})\\\\ {+\\frac{e^{2}}{4 \\pi \\epsilon_{0} r_{i j}}+b\\left(\\frac{c}{r_{i j}}\\right)^{12}} (\\mathrm{++ or --}) \\end{array}\\right.\n",
    "$$\n",
    "\n",
    "where the Coulomb force has constant:\n",
    "\n",
    "$$ke^2 = e^2/4\\pi\\epsilon_0 = 1.44\\; \\mathrm{eV-nm}$$\n",
    "\n",
    "with Pauli exclusion term:\n",
    "\n",
    "$$\\alpha = 1.09e3\\;\\mathrm{eV}$$\n",
    "\n",
    "and a term to stabilize (or \"regularize\") the computation at small distances with:\n",
    "\n",
    "$$b = 1.0\\;\\mathrm{eV}$$\n",
    "\n",
    "$$c = 0.01\\;\\mathrm{nm}$$\n",
    "\n",
    "**Coulombic Term**: Describes the electrostatic interaction between charged particles. For (\\(+ -\\)), it's attractive, and for (\\(++\\) or \\(--\\)), it's repulsive.\n",
    "**Pauli Exclusion Term**: Introduces a repulsive term based on the Pauli exclusion principle.\n",
    "\n",
    "\n",
    "\n"
   ]
  }
 ],
 "metadata": {
  "language_info": {
   "name": "python"
  }
 },
 "nbformat": 4,
 "nbformat_minor": 2
}
