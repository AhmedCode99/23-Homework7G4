{
 "cells": [
  {
   "cell_type": "markdown",
   "metadata": {},
   "source": [
    "#  THE ION–ION POTENTIAL:\n",
    "The two-body (Na and Cl) potential consists of the sum of the attractive or repulsive point charge Coulomb energy and the repulsive Pauli energy. The potential energy function \\( U(r_{ij}) \\) models the interaction between particles (Na and Cl ions) based on their separation distance \\( r_{ij} \\). The function has different forms depending on the sign of the interacting particles, denoted as (\\(+ -\\)) or (\\(++\\) or \\(--\\)).\n",
    "\n",
    "\n",
    "$$\n",
    "U\\left(r_{i j}\\right)=\\left\\{\\begin{array}{l}{-\\frac{e^{2}}{4 \\pi \\epsilon_{0} r_{i j}}+\\alpha e^{-r_{i j} / \\rho}+b\\left(\\frac{c}{r_{i j}}\\right)^{12}} (\\mathrm{+ -})\\\\ {+\\frac{e^{2}}{4 \\pi \\epsilon_{0} r_{i j}}+b\\left(\\frac{c}{r_{i j}}\\right)^{12}} (\\mathrm{++ or --}) \\end{array}\\right.\n",
    "$$\n",
    "\n",
    "1. **Coulombic Term**: Describes the electrostatic interaction between charged particles. For (\\(+ -\\)), it's attractive, and for (\\(++\\) or \\(--\\)), it's repulsive.\n",
    "\n",
    "   \\[ -\\frac{e^{2}}{4\\pi\\epsilon_{0} r_{ij}} \\]\n",
    "\n",
    "2. **Pauli Exclusion Term**: Introduces a repulsive term based on the Pauli exclusion principle.\n",
    "\n",
    "   \\[ \\alpha e^{-r_{ij} / \\rho} \\]\n",
    "\n",
    "3. **Stabilizing Term**: Introduced to stabilize the computation at small distances.\n",
    "\n",
    "   \\[ b\\left(\\frac{c}{r_{ij}}\\right)^{12} \\]\n",
    "\n",
    "4. **Constant Terms**: The overall Coulomb force constant \\( ke^2 \\), Pauli exclusion constant \\( \\alpha \\), and the stabilization constants \\( b \\) and \\( c \\) are given.\n",
    "\n",
    "   \\[ ke^2 = \\frac{e^{2}}{4\\pi\\epsilon_{0}} = 1.44\\; \\mathrm{eV-nm} \\]\n",
    "   \\[ \\alpha = 1.09e3\\; \\mathrm{eV} \\]\n",
    "   \\[ b = 1.0\\; \\mathrm{eV} \\]\n",
    "   \\[ c = 0.01\\; \\mathrm{nm} \\]\n",
    "\n"
   ]
  }
 ],
 "metadata": {
  "language_info": {
   "name": "python"
  }
 },
 "nbformat": 4,
 "nbformat_minor": 2
}
